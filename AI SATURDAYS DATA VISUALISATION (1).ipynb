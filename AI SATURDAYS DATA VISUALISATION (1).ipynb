{
 "cells": [
  {
   "cell_type": "markdown",
   "metadata": {},
   "source": [
    "**BASIC EDA ON AI SATURDAYS EVENT IN OGBOMOSO, NIGERIA.**"
   ]
  },
  {
   "cell_type": "markdown",
   "metadata": {},
   "source": [
    "Hey Guys! I had fun recently participating in a three day python training for the second cohort of LAUTECH AI-Saturdays member. The event was organized by the LAUTECH Data Science Community. I volunteered to help teach python programming to the attendees. I really had fun teaching and helping. We collected participation data for all three days the event held and so after everything, I decided to do some basic exploratory data analysis (EDA) on the data we had collected. I wanted to answer some basic questions like:\n",
    "    \n",
    "> Which department in school had the highest participants?\n",
    "> Which set of students attended more? Were they freshers, final year students, or graduates? \n",
    "     \n",
    "And also, I wanted to have fun! Fun for me is analyzing data. So, Let’s walk through this exploration together.\n",
    "     \n",
    "     \n",
    "    "
   ]
  },
  {
   "cell_type": "markdown",
   "metadata": {},
   "source": [
    "The first thing I did was to get the data. Then I  created a jupyter notebook for the experiment and imported the necessary python modules I’d need  for this data analysis. (Pandas, Numpy and Matplotlib)"
   ]
  },
  {
   "cell_type": "markdown",
   "metadata": {},
   "source": [
    "Numpy provides me with high performance, multi-dimensional array and the important functions to manipulate these arrays.\n",
    "Pandas gives me access to useful functions for working with the csv dataset and finally, Matplotlib which I use for the data visualization. "
   ]
  },
  {
   "cell_type": "code",
   "execution_count": null,
   "metadata": {
    "collapsed": true
   },
   "outputs": [],
   "source": [
    "import pandas as pd\n",
    "import numpy as np\n",
    "import matplotlib.pylab as plt"
   ]
  },
  {
   "cell_type": "markdown",
   "metadata": {},
   "source": [
    "Next, I read in the dataset using the pandas read_csv() function and then plot the first five rows of the data."
   ]
  },
  {
   "cell_type": "code",
   "execution_count": 2,
   "metadata": {
    "collapsed": true
   },
   "outputs": [],
   "source": [
    "data_ai= pd.read_csv('jd.csv')\n"
   ]
  },
  {
   "cell_type": "code",
   "execution_count": 4,
   "metadata": {},
   "outputs": [
    {
     "data": {
      "text/html": [
       "<div>\n",
       "<style>\n",
       "    .dataframe thead tr:only-child th {\n",
       "        text-align: right;\n",
       "    }\n",
       "\n",
       "    .dataframe thead th {\n",
       "        text-align: left;\n",
       "    }\n",
       "\n",
       "    .dataframe tbody tr th {\n",
       "        vertical-align: top;\n",
       "    }\n",
       "</style>\n",
       "<table border=\"1\" class=\"dataframe\">\n",
       "  <thead>\n",
       "    <tr style=\"text-align: right;\">\n",
       "      <th></th>\n",
       "      <th>Username</th>\n",
       "      <th>Full name</th>\n",
       "      <th>Phone Number</th>\n",
       "      <th>Department</th>\n",
       "      <th>Level</th>\n",
       "      <th>Availability</th>\n",
       "      <th>Day 1</th>\n",
       "      <th>Day 2</th>\n",
       "      <th>Day 3</th>\n",
       "    </tr>\n",
       "  </thead>\n",
       "  <tbody>\n",
       "    <tr>\n",
       "      <th>0</th>\n",
       "      <td>paschal.nduleo@gmail.com</td>\n",
       "      <td>Paschal Ndulue</td>\n",
       "      <td>8177449353</td>\n",
       "      <td>Computer science and engineering</td>\n",
       "      <td>300L</td>\n",
       "      <td>√</td>\n",
       "      <td>1.0</td>\n",
       "      <td>1.0</td>\n",
       "      <td>1.0</td>\n",
       "    </tr>\n",
       "    <tr>\n",
       "      <th>1</th>\n",
       "      <td>akinro.olubunmi25@gmail.com</td>\n",
       "      <td>Olubunmi Akinro</td>\n",
       "      <td>8163855102</td>\n",
       "      <td>Computer Science and engineering</td>\n",
       "      <td>500L</td>\n",
       "      <td>NaN</td>\n",
       "      <td>1.0</td>\n",
       "      <td>1.0</td>\n",
       "      <td>1.0</td>\n",
       "    </tr>\n",
       "    <tr>\n",
       "      <th>2</th>\n",
       "      <td>oluwadamilaredan@gmail.com</td>\n",
       "      <td>Dan Aremu</td>\n",
       "      <td>8161358288</td>\n",
       "      <td>Computer Science</td>\n",
       "      <td>500L</td>\n",
       "      <td>√</td>\n",
       "      <td>1.0</td>\n",
       "      <td>NaN</td>\n",
       "      <td>NaN</td>\n",
       "    </tr>\n",
       "    <tr>\n",
       "      <th>3</th>\n",
       "      <td>Oluwapemimary@gmail.com</td>\n",
       "      <td>Oluwapemi Oripeloye</td>\n",
       "      <td>8133354618</td>\n",
       "      <td>Animal Nutrition and Biotechnology</td>\n",
       "      <td>400L</td>\n",
       "      <td>NaN</td>\n",
       "      <td>1.0</td>\n",
       "      <td>1.0</td>\n",
       "      <td>0.0</td>\n",
       "    </tr>\n",
       "    <tr>\n",
       "      <th>4</th>\n",
       "      <td>gbadamosisulaiman1993@gmail.com</td>\n",
       "      <td>Sulaiman Gbadamosi</td>\n",
       "      <td>8163378007</td>\n",
       "      <td>Computer science</td>\n",
       "      <td>500L</td>\n",
       "      <td>NaN</td>\n",
       "      <td>1.0</td>\n",
       "      <td>1.0</td>\n",
       "      <td>1.0</td>\n",
       "    </tr>\n",
       "  </tbody>\n",
       "</table>\n",
       "</div>"
      ],
      "text/plain": [
       "                          Username            Full name Phone Number   \\\n",
       "0         paschal.nduleo@gmail.com      Paschal Ndulue     8177449353   \n",
       "1      akinro.olubunmi25@gmail.com      Olubunmi Akinro    8163855102   \n",
       "2       oluwadamilaredan@gmail.com            Dan Aremu    8161358288   \n",
       "3          Oluwapemimary@gmail.com  Oluwapemi Oripeloye    8133354618   \n",
       "4  gbadamosisulaiman1993@gmail.com  Sulaiman Gbadamosi     8163378007   \n",
       "\n",
       "                          Department  Level Availability  Day 1  Day 2  Day 3  \n",
       "0   Computer science and engineering   300L            √    1.0    1.0    1.0  \n",
       "1   Computer Science and engineering   500L          NaN    1.0    1.0    1.0  \n",
       "2                   Computer Science   500L            √    1.0    NaN    NaN  \n",
       "3  Animal Nutrition and Biotechnology  400L          NaN    1.0    1.0    0.0  \n",
       "4                   Computer science   500L          NaN    1.0    1.0    1.0  "
      ]
     },
     "execution_count": 4,
     "metadata": {},
     "output_type": "execute_result"
    }
   ],
   "source": [
    "data_ai.head()"
   ]
  },
  {
   "cell_type": "markdown",
   "metadata": {},
   "source": [
    "We can see that the dataset contains nine columns.\n",
    "\n",
    "> **Username:** Which surprisingly stores email.\n",
    "\n",
    "> **Fullname:** Name of the participants.\n",
    "\n",
    "> **Phone Number:** Phone Numbers of the participants.\n",
    "\n",
    "> **Department:** The current department of study.\n",
    "\n",
    "> **Level:** The current study level.\n",
    "\n",
    "> **Availability:** This is column functions like an attendance marker.\n",
    "\n",
    " > **Day1, Day2 and Day3:** This is 1.0 if the participant is present otherwise it is 0.0.\n",
    " "
   ]
  },
  {
   "cell_type": "code",
   "execution_count": 5,
   "metadata": {},
   "outputs": [
    {
     "data": {
      "text/plain": [
       "Index(['Username', 'Full name', 'Phone Number ', 'Department ', 'Level',\n",
       "       'Availability', 'Day 1', 'Day 2', 'Day 3'],\n",
       "      dtype='object')"
      ]
     },
     "execution_count": 5,
     "metadata": {},
     "output_type": "execute_result"
    }
   ],
   "source": [
    "data_ai.columns"
   ]
  },
  {
   "cell_type": "markdown",
   "metadata": {},
   "source": [
    "Then, I decided to investigate the levels column first. I wrote a code to print out the counts of students in each level."
   ]
  },
  {
   "cell_type": "code",
   "execution_count": 6,
   "metadata": {},
   "outputs": [
    {
     "data": {
      "text/plain": [
       "400L                        50\n",
       "500L                        35\n",
       "300L                        20\n",
       "200L                         9\n",
       "Graduate                     4\n",
       "Anticipating corp member     1\n",
       "Outgoing Finalist            1\n",
       "Graduate                     1\n",
       "Post Graduate                1\n",
       "Fresh graduate               1\n",
       "Fresh Graduate               1\n",
       "Name: Level, dtype: int64"
      ]
     },
     "execution_count": 6,
     "metadata": {},
     "output_type": "execute_result"
    }
   ],
   "source": [
    "degree_counts = data_ai['Level'].value_counts()\n",
    "degree_counts"
   ]
  },
  {
   "cell_type": "markdown",
   "metadata": {},
   "source": [
    "From the count result above, we can immediately see that 400L students had the highest attendeance. Interesting right?\n",
    "\n",
    "Let's do a bar plot to make this more visual."
   ]
  },
  {
   "cell_type": "code",
   "execution_count": 7,
   "metadata": {},
   "outputs": [
    {
     "data": {
      "image/png": "[encoded data removed]",
      "text/plain": [
       "<matplotlib.figure.Figure at 0x97a5a58>"
      ]
     },
     "metadata": {},
     "output_type": "display_data"
    }
   ],
   "source": [
    "degree_counts.plot(kind='bar')\n",
    "plt.show()"
   ]
  },
  {
   "cell_type": "markdown",
   "metadata": {},
   "source": [
    "Now that's better. But I noticed something else. It seems that we have different texts for graduates. This was probably due to the fact that each individual filing the form, used a different text to identify themselves as graduates. I decided to group these category of people into just one group called graduates."
   ]
  },
  {
   "cell_type": "code",
   "execution_count": 8,
   "metadata": {
    "collapsed": true
   },
   "outputs": [],
   "source": [
    "Level ={'Post Graduate': 'Graduate', 'Fresh graduate':'Graduate','Anticipating corp member' :'Graduate','Graduate ':'Graduate',\\\n",
    "        'Fresh Graduate':'Graduate','Outgoing Finalist':'Graduate'}\n",
    "data_ai.replace(Level, inplace=True, regex=True)"
   ]
  },
  {
   "cell_type": "markdown",
   "metadata": {},
   "source": [
    "After grouping, I counted the values again, and this time got a better result."
   ]
  },
  {
   "cell_type": "code",
   "execution_count": 9,
   "metadata": {},
   "outputs": [
    {
     "data": {
      "text/plain": [
       "400L        50\n",
       "500L        35\n",
       "300L        20\n",
       "Graduate    10\n",
       "200L         9\n",
       "Name: Level, dtype: int64"
      ]
     },
     "execution_count": 9,
     "metadata": {},
     "output_type": "execute_result"
    }
   ],
   "source": [
    "degree_counts = data_ai['Level'].value_counts()\n",
    "degree_counts"
   ]
  },
  {
   "cell_type": "code",
   "execution_count": 10,
   "metadata": {},
   "outputs": [
    {
     "data": {
      "image/png": "[encoded data removed]",
      "text/plain": [
       "<matplotlib.figure.Figure at 0x97fac50>"
      ]
     },
     "metadata": {},
     "output_type": "display_data"
    }
   ],
   "source": [
    "degree_counts.plot(kind='bar')\n",
    "plt.show()"
   ]
  },
  {
   "cell_type": "markdown",
   "metadata": {},
   "source": [
    "And, now we can clearly see that 400L students attended the most followed  by 500L students. \n",
    "Let's make a pie chart of this information too."
   ]
  },
  {
   "cell_type": "code",
   "execution_count": 11,
   "metadata": {},
   "outputs": [
    {
     "data": {
      "image/png": "[encoded data removed]",
      "text/plain": [
       "<matplotlib.figure.Figure at 0x9b50e10>"
      ]
     },
     "metadata": {},
     "output_type": "display_data"
    }
   ],
   "source": [
    "values = data_ai['Level'].value_counts()\n",
    "colors = ['r', 'g', 'b', 'c', 'm']\n",
    "explode = [0.03, 0.03, 0.03, 0.03, 0.03]\n",
    "labels = ['400L','500L','300L','Graduate','200L']\n",
    "plt.pie(values, colors= colors, labels=labels, explode = explode)\n",
    "plt.title('Visual Exploration Of Participants')\n",
    "plt.show()"
   ]
  },
  {
   "cell_type": "markdown",
   "metadata": {},
   "source": [
    "Following the same steps above, I decided to investigate the participants by their departments."
   ]
  },
  {
   "cell_type": "code",
   "execution_count": 12,
   "metadata": {
    "scrolled": true
   },
   "outputs": [
    {
     "data": {
      "text/plain": [
       "CSE                                                  17\n",
       "Computer science and engineering                      6\n",
       "Computer science and engineering                      5\n",
       "Computer science                                      4\n",
       "Computer Science                                      4\n",
       "Cse                                                   4\n",
       "Computer Science                                      3\n",
       "Mechanical Engineering                                3\n",
       "Computer science                                      3\n",
       "Computer Science and Engineering                      3\n",
       "computer science                                      2\n",
       "Electronics Electrical Engineering                    2\n",
       "Physiology                                            2\n",
       "Biology                                               2\n",
       "Anatomy                                               2\n",
       "Mechanical Engineering                                2\n",
       "URP                                                   1\n",
       "Computer Science & Engineering                        1\n",
       "Pure and Applied Mathematics                          1\n",
       "Transport management and highway engineering          1\n",
       "Electrical electronics engineering                    1\n",
       "Computer science and Engineering                      1\n",
       "Animal Nutrition and Biotechnology                    1\n",
       "Statistics                                            1\n",
       "PURE AND APPLIED BIOLOGY                              1\n",
       "Urban and Regional Planning                           1\n",
       "Food Science and Engineering                          1\n",
       "Animal production and health                          1\n",
       "Pure and applied biology                              1\n",
       "Transport Management                                  1\n",
       "                                                     ..\n",
       "MEE                                                   1\n",
       "Electronic and Electrical Engineering                 1\n",
       "Mechanical engineering                                1\n",
       "S.L.T                                                 1\n",
       "Pure and Applied Chemistry                            1\n",
       "Statistics                                            1\n",
       "Animal production and health                          1\n",
       "Electronic electrical engineering                     1\n",
       "AER                                                   1\n",
       "Chemical Engineering                                  1\n",
       "Pure & applied chemistry                              1\n",
       "Pure and applied physics                              1\n",
       "cse                                                   1\n",
       "CHEMICAL ENGINEERING                                  1\n",
       "CIVIL ENGINEERING                                     1\n",
       "Pure and applied mathematics                          1\n",
       "Transport Management                                  1\n",
       "Computer Science And Engineering                      1\n",
       "Pure and applied mathematics                          1\n",
       "ANIMAL NUTRITION AND BIOTECHNOLOGY                    1\n",
       "Pure and Applied Mathematics                          1\n",
       "Computer Science and engineering                      1\n",
       "Pure and applied Mathematics                          1\n",
       "Agricultural Economics                                1\n",
       "Computer Engineering                                  1\n",
       "chemical engineering                                  1\n",
       "computer science and engineering                      1\n",
       "DEPARTMENT OF ANIMAL NUTRITION AND BIOTECHNOLOGY      1\n",
       "Pure and Applied Physics                              1\n",
       "Pure and Applied Chemistry                            1\n",
       "Name: Department , Length: 74, dtype: int64"
      ]
     },
     "execution_count": 12,
     "metadata": {},
     "output_type": "execute_result"
    }
   ],
   "source": [
    "degree_counts1 = data_ai.iloc[:,3].value_counts()\n",
    "\n",
    "degree_counts1"
   ]
  },
  {
   "cell_type": "markdown",
   "metadata": {},
   "source": [
    "Well, As you can see, participants filled this field with differently. Some used upper cases while some used lower cases, some used different title for the same department. I decided to categorize these department into groups by replacing similar departments with the same name. "
   ]
  },
  {
   "cell_type": "code",
   "execution_count": 18,
   "metadata": {
    "collapsed": true
   },
   "outputs": [],
   "source": [
    "Department = {'Computer science and engineering':'CSE','Computer science and engineering ':'CSE','Computer Science':'CSE',\\\n",
    "              'Computer science':'CSE','Cse':'CSE','Computer Science ':'CSE', 'Computer Science and Engineering':'CSE',\\\n",
    "              'Computer science':'CSE','computer science':'CSE', 'CSE ':'CSE','computer science and engineering':'CSE',\\\n",
    "             'Computer Science and engineering' :'CSE','C. S. E':'CSE','Computer Engineering':'CSE','cse':'CSE',\\\n",
    "              'Computer Science And Engineering':'CSE','CSEand Engineering':'CSE','COMPUTER SCIENCE AND ENGINEERING':'CSE',\\\n",
    "             'CSEAnd Engineering':'CSE','CSEand engineering':'CSE','CSE& Engineering':'CSE','CSEand engineering':'CSE',\\\n",
    "              'CSE ':'CSE','Mechanical Engineering':'MEE','Mechanical Engineering ':'MEE','Mechanical engineering':'MEE',\\\n",
    "             'MEE ':'MEE','Electronics Electrical Engineering':'EEE','Electronic electrical engineering':'EEE',\\\n",
    "             'Electrical Electronics Engineering':'EEE','Electrical electronics engineering':'EEE',\\\n",
    "              'Electronic and Electrical Engineering':'EEE','EEE ':'EEE','PURE AND APPLIED BIOLOGY':'BIOLOGY',\\\n",
    "             'Pure and applied biology':'BIOLOGY','Pure and Applied Biology':'BIOLOGY','Biology':'BIOLOGY',\\\n",
    "              'Pure and applied mathematics':'MATHEMATICS','Pure and applied mathematics ':'MATHEMATICS',\\\n",
    "              'Pure and Applied Mathematics':'MATHEMATICS','Pure and applied mathematics ':'MATHEMATICS',\\\n",
    "              'Pure and applied Mathematics ':'MATHEMATICS','MATHEMATICS ':'MATHEMATICS','PAM':'MATHEMATICS',\\\n",
    "              'Pure and applied physics':'PHYSICS','Pure and Applied Physics':'PHYSICS','Pure and Applied Physics':'PHYSICS',\\\n",
    "              'Pure and applied physics':'PHYSICS',' PHYSICS':'PHYSICS','ANIMAL NUTRITION AND BIOTECHNOLOGY':'ANB',\\\n",
    "              'Animal Nutrition and Biotechnology':'ANB','DEPARTMENT OF ANIMAL NUTRITION AND BIOTECHNOLOGY':'ANB',\\\n",
    "             'DEPARTMENT OF ANB':'ANB','Pure & applied chemistry':'CHEMISTRY','Pure and Applied Chemistry':'CHEMISTRY',\\\n",
    "              'Pure and Applied Chemistry ':'CHEMISTRY','Agricultural Economics':'AEC','Agricultural Economics ':'AEC',\\\n",
    "              'chemical engineering':'CHE','Chemical Engineering':'CHE','CHEMICAL ENGINEERING':'CHE','chemical engineering ':\\\n",
    "              'CHE','CHE ':'CHE','Animal production and health':'APH','Animal production and health ':'APH','APH ':'APH',\\\n",
    "             'Transport management and highway engineering':'TRANSPORT','Transport Management':'TRANSPORT',\\\n",
    "            'Transport Management':'TRANSPORT','TRANSPORT ':'TRANSPORT','Statistics':'STATISTICS','Statistics ':'STATISTICS',\\\n",
    "             'STATISTICS ':'STATISTICS','Food Science and Engineering':'FSE','Agricultural Engineering':'AGE',\\\n",
    "              'Urban and Regional Planning':'URP','CHEMISTRY ':'CHEMISTRY','CIVIL ENGINEERING':'CVE','ANB ':'ANB','AEC ':'AEC',\\\n",
    "              'BIOLOGY ':'BIOLOGY', ' CSE':'CSE', 'PHYSICS ':'PHYSICS',' CSE':'CSE'}\n",
    "data_ai.replace(Department, inplace=True,regex=True)"
   ]
  },
  {
   "cell_type": "markdown",
   "metadata": {},
   "source": [
    "After replacing the fields, I did a value count and got a better and cleaner result."
   ]
  },
  {
   "cell_type": "code",
   "execution_count": 19,
   "metadata": {
    "scrolled": true
   },
   "outputs": [
    {
     "data": {
      "text/plain": [
       "CSE            61\n",
       "MEE             7\n",
       "MATHEMATICS     6\n",
       "BIOLOGY         6\n",
       "EEE             6\n",
       "PHYSICS         4\n",
       "CHE             4\n",
       "CHEMISTRY       3\n",
       "TRANSPORT       3\n",
       "ANB             3\n",
       "Physiology      2\n",
       "STATISTICS      2\n",
       "URP             2\n",
       "APH             2\n",
       "AEC             2\n",
       "Anatomy         2\n",
       "S.L.T           1\n",
       "CVE             1\n",
       "AGE             1\n",
       "AER             1\n",
       "FSE             1\n",
       "Accounting      1\n",
       "Marketing       1\n",
       "Name: Department , dtype: int64"
      ]
     },
     "execution_count": 19,
     "metadata": {},
     "output_type": "execute_result"
    }
   ],
   "source": [
    "degree_counts1 = data_ai.iloc[:,3].value_counts()\n",
    "\n",
    "degree_counts1"
   ]
  },
  {
   "cell_type": "markdown",
   "metadata": {},
   "source": [
    "And it seems, CSE (Computer Science) has the highest attendance. I kinda expected that since its a technology related field, But I wanted to confirm my hypothesis.\n",
    "\n",
    "Next, let's make a bar chart to visualize this properly."
   ]
  },
  {
   "cell_type": "code",
   "execution_count": 20,
   "metadata": {},
   "outputs": [
    {
     "data": {
      "image/png": "[encoded data removed]",
      "text/plain": [
       "<matplotlib.figure.Figure at 0x988f438>"
      ]
     },
     "metadata": {},
     "output_type": "display_data"
    }
   ],
   "source": [
    "degree_counts1.plot(kind='bar')\n",
    "plt.show()"
   ]
  },
  {
   "cell_type": "code",
   "execution_count": null,
   "metadata": {
    "collapsed": true
   },
   "outputs": [],
   "source": [
    "And then, a pie chart."
   ]
  },
  {
   "cell_type": "code",
   "execution_count": 23,
   "metadata": {},
   "outputs": [
    {
     "data": {
      "image/png": "[encoded data removed]",
      "text/plain": [
       "<matplotlib.figure.Figure at 0x9bba278>"
      ]
     },
     "metadata": {},
     "output_type": "display_data"
    }
   ],
   "source": [
    "values = degree_counts1\n",
    "explode = [0.1,0,0,0,0,0,0,0.4,0,0.2,0,0.2,0.4,0.2,0,0.2,0.3,0.2,0.4,0.2,0.4,0.2,0.4]\n",
    "labels = ['CSE','MEE','BIOLOGY','MATHEMATICS','EEE','PHSICS','CHE','CHEMISTRY','ANB','TRANSPORT','URP','AEC','Anatomy',\\\n",
    "         'STATISTICS','APH','Physiology','S.L.T','CVE','Accounting','AGE','Marketing','AER','FSE']\n",
    "plt.pie(values, labels = labels,explode=explode)\n",
    "plt.title('A Visual Exploration of Participants')\n",
    "plt.show()"
   ]
  },
  {
   "cell_type": "markdown",
   "metadata": {},
   "source": [
    "And finally, more fancy colored plot before I go."
   ]
  },
  {
   "cell_type": "code",
   "execution_count": 24,
   "metadata": {},
   "outputs": [
    {
     "data": {
      "image/png": "[encoded data removed]",
      "text/plain": [
       "<matplotlib.figure.Figure at 0x9cc1b70>"
      ]
     },
     "metadata": {},
     "output_type": "display_data"
    }
   ],
   "source": [
    "import numpy as np\n",
    "values = degree_counts1\n",
    "objects = ('CSE','MEE','MATHEMATICS','BIOLOGY','EEE','CHE','PHYSICS','TRANSPORT','CHEMISTRY','ANB','STATISTICS','Anatomy',\\\n",
    "         'Physiology','URP','AEC','APH','CVE','Accounting','AER','S.L.T','AGE','FSE','Marketing')\n",
    "colors = ['r','g','r','g','r','g','r','g','r','g','r','g','r','g','r','g','r','g','r','g','r','g','r']\n",
    "x_pos = np.arange(len(objects))\n",
    "plt.xlabel('Department')\n",
    "plt.ylabel('Count')\n",
    "plt.xticks(x_pos,objects,rotation=90)\n",
    "plt.bar(range(0,23),values,color=colors)\n",
    "plt.title('A Visual Exploration of Participants')\n",
    "plt.show()"
   ]
  },
  {
   "cell_type": "code",
   "execution_count": 26,
   "metadata": {},
   "outputs": [
    {
     "data": {
      "image/png": "[encoded data removed]",
      "text/plain": [
       "<matplotlib.figure.Figure at 0x9f4b518>"
      ]
     },
     "metadata": {},
     "output_type": "display_data"
    }
   ],
   "source": [
    "values = [9,20,50,35,10] \n",
    "objects = ('200L','300L','400L','500L','Graduate')\n",
    "colors = ['r', 'g', 'b', 'c', 'm']\n",
    "x_pos = np.arange(len(objects))\n",
    "plt.bar(range(5), values, color= colors)\n",
    "plt.xlabel('Level')\n",
    "plt.ylabel('Count')\n",
    "plt.xticks(x_pos,objects,rotation=30)\n",
    "plt.title('A Visual Exploration of Participants')\n",
    "plt.show()"
   ]
  },
  {
   "cell_type": "markdown",
   "metadata": {
    "collapsed": true
   },
   "source": [
    "Well, I was able to answer the questions I raised before exploring this data and so decided to call it a day here. \n",
    "\n",
    "I hope this was worth your time and you probably learnt a thing or two. I would also like to urge participants of the AI Saturdays to make good use of all that they would learn in the upcoming weeks. \n",
    "\n",
    "Well, Bye for now.\n",
    "\n",
    "You can follow me on twitter here, instagram here and facebook here."
   ]
  }
 ],
 "metadata": {
  "kernelspec": {
   "display_name": "Python 3",
   "language": "python",
   "name": "python3"
  },
  "language_info": {
   "codemirror_mode": {
    "name": "ipython",
    "version": 3
   },
   "file_extension": ".py",
   "mimetype": "text/x-python",
   "name": "python",
   "nbconvert_exporter": "python",
   "pygments_lexer": "ipython3",
   "version": "3.6.1"
  }
 },
 "nbformat": 4,
 "nbformat_minor": 2
}
